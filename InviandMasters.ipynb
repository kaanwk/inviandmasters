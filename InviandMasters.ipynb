{
  "cells": [
    {
      "cell_type": "markdown",
      "metadata": {
        "id": "view-in-github",
        "colab_type": "text"
      },
      "source": [
        "<a href=\"https://colab.research.google.com/github/kaanwk/inviandmasters/blob/main/InviandMasters.ipynb\" target=\"_parent\"><img src=\"https://colab.research.google.com/assets/colab-badge.svg\" alt=\"Open In Colab\"/></a>"
      ]
    },
    {
      "cell_type": "markdown",
      "metadata": {
        "id": "Ji5TBLVwFJPp"
      },
      "source": [
        "# Imports/Using Google Colab \n"
      ]
    },
    {
      "cell_type": "code",
      "execution_count": null,
      "metadata": {
        "id": "6nDblL-aFEDK"
      },
      "outputs": [],
      "source": [
        "# Install RDKit.\n",
        "%%capture\n",
        "!pip install rdkit-pypi\n",
        "from rdkit import Chem\n",
        "from rdkit.Chem import Draw\n",
        "from rdkit.Chem.Draw import IPythonConsole\n",
        "from rdkit.Chem import Descriptors\n",
        "from rdkit.Chem import AllChem\n",
        "from rdkit import DataStructs\n",
        "import numpy as np\n"
      ]
    },
    {
      "cell_type": "code",
      "execution_count": null,
      "metadata": {
        "id": "s1lxEiiHFQMw"
      },
      "outputs": [],
      "source": [
        "import pandas as pd\n",
        "import numpy as np\n",
        "import matplotlib.pyplot as plt\n",
        "import rdkit\n",
        "\n",
        "from rdkit import Chem\n",
        "from rdkit.Chem import AllChem\n",
        "from rdkit.Chem import rdChemReactions\n",
        "\n",
        "from transformers import AutoTokenizer, RobertaModel\n",
        "import torch"
      ]
    },
    {
      "cell_type": "code",
      "execution_count": null,
      "metadata": {
        "id": "KAOR2Di3FeIr"
      },
      "outputs": [],
      "source": [
        "!pip install transformers\n",
        "from transformers import AutoTokenizer"
      ]
    },
    {
      "cell_type": "markdown",
      "metadata": {
        "id": "CLpvRbLwBHF7"
      },
      "source": [
        "# Iterations of Learning"
      ]
    },
    {
      "cell_type": "code",
      "execution_count": null,
      "metadata": {
        "id": "5LM-4b4HA1Bt"
      },
      "outputs": [],
      "source": [
        "amount = 1000"
      ]
    },
    {
      "cell_type": "markdown",
      "metadata": {
        "id": "SyfcDoghFVN0"
      },
      "source": [
        "# Data Cleaning and Reading"
      ]
    },
    {
      "cell_type": "code",
      "execution_count": null,
      "metadata": {
        "id": "k6emKomiFZCB"
      },
      "outputs": [],
      "source": [
        "train = pd.read_csv('/reaction_train_dataset.csv')\n",
        "test = pd.read_csv('/reaction_test_dataset.csv')"
      ]
    },
    {
      "cell_type": "code",
      "execution_count": null,
      "metadata": {
        "colab": {
          "base_uri": "https://localhost:8080/",
          "height": 409
        },
        "id": "zvicn1SDLVxB",
        "outputId": "349f4e9a-aa93-41d9-f157-9f9ba4b4fc77"
      },
      "outputs": [
        {
          "data": {
            "text/html": [
              "\n",
              "  <div id=\"df-85387a79-975d-46e8-9f4f-49d7a2cd0837\">\n",
              "    <div class=\"colab-df-container\">\n",
              "      <div>\n",
              "<style scoped>\n",
              "    .dataframe tbody tr th:only-of-type {\n",
              "        vertical-align: middle;\n",
              "    }\n",
              "\n",
              "    .dataframe tbody tr th {\n",
              "        vertical-align: top;\n",
              "    }\n",
              "\n",
              "    .dataframe thead th {\n",
              "        text-align: right;\n",
              "    }\n",
              "</style>\n",
              "<table border=\"1\" class=\"dataframe\">\n",
              "  <thead>\n",
              "    <tr style=\"text-align: right;\">\n",
              "      <th></th>\n",
              "      <th>reaction_id</th>\n",
              "      <th>reaction_smiles</th>\n",
              "      <th>mapped_reaction_smiles</th>\n",
              "      <th>ec_level_1</th>\n",
              "      <th>ec_level_2</th>\n",
              "      <th>ec_level_3</th>\n",
              "      <th>ec_level_4</th>\n",
              "    </tr>\n",
              "  </thead>\n",
              "  <tbody>\n",
              "    <tr>\n",
              "      <th>0</th>\n",
              "      <td>48567</td>\n",
              "      <td>CCCCC[C@H](O)c1c(O)cc2c(c1O)C(=O)c1c(O)cc(O)cc...</td>\n",
              "      <td>[CH3:1][CH2:2][CH2:3][CH2:4][CH2:5][C@@H:12]([...</td>\n",
              "      <td>1</td>\n",
              "      <td>1.14</td>\n",
              "      <td>1.14.14</td>\n",
              "      <td>1.14.14.116</td>\n",
              "    </tr>\n",
              "    <tr>\n",
              "      <th>1</th>\n",
              "      <td>68073</td>\n",
              "      <td>C=CC(CC#N)OCc1ccccc1.O&gt;&gt;C=CC(CC(N)=O)OCc1ccccc1</td>\n",
              "      <td>[CH2:1]=[CH:2][CH:12]([CH2:8][C:9]#[N:13])[O:1...</td>\n",
              "      <td>4</td>\n",
              "      <td>4.20</td>\n",
              "      <td>4.2.1</td>\n",
              "      <td>4.2.1.84</td>\n",
              "    </tr>\n",
              "    <tr>\n",
              "      <th>2</th>\n",
              "      <td>55632</td>\n",
              "      <td>CSCC[C@H](NC(C)=O)C(=O)Nc1ccc2c(C)cc(=O)oc2c1....</td>\n",
              "      <td>[CH3:1][c:10]1[cH:8][c:16](=[O:21])[o:23][c:15...</td>\n",
              "      <td>3</td>\n",
              "      <td>3.40</td>\n",
              "      <td>3.4.19</td>\n",
              "      <td>3.4.19.1</td>\n",
              "    </tr>\n",
              "    <tr>\n",
              "      <th>3</th>\n",
              "      <td>65201</td>\n",
              "      <td>CN[C@@H]1[C@H](O[C@H]2[C@H](O[C@@H]3[C@@H](NC(...</td>\n",
              "      <td>[CH2:44]([C@@H:47]1[C@@H:49]([OH:59])[C@@H:50]...</td>\n",
              "      <td>2</td>\n",
              "      <td>2.70</td>\n",
              "      <td>2.7.1</td>\n",
              "      <td>2.7.1.72</td>\n",
              "    </tr>\n",
              "    <tr>\n",
              "      <th>4</th>\n",
              "      <td>27225</td>\n",
              "      <td>O.O=C1CCC(C(=O)O)=CN1&gt;&gt;N.N/C(=C\\CC(=O)O)C(=O)O</td>\n",
              "      <td>[CH2:1]1[CH2:2][C:5](=[O:8])[NH:7][CH:3]=[C:4]...</td>\n",
              "      <td>3</td>\n",
              "      <td>3.50</td>\n",
              "      <td>3.5.2</td>\n",
              "      <td>3.5.2.18</td>\n",
              "    </tr>\n",
              "  </tbody>\n",
              "</table>\n",
              "</div>\n",
              "      <button class=\"colab-df-convert\" onclick=\"convertToInteractive('df-85387a79-975d-46e8-9f4f-49d7a2cd0837')\"\n",
              "              title=\"Convert this dataframe to an interactive table.\"\n",
              "              style=\"display:none;\">\n",
              "        \n",
              "  <svg xmlns=\"http://www.w3.org/2000/svg\" height=\"24px\"viewBox=\"0 0 24 24\"\n",
              "       width=\"24px\">\n",
              "    <path d=\"M0 0h24v24H0V0z\" fill=\"none\"/>\n",
              "    <path d=\"M18.56 5.44l.94 2.06.94-2.06 2.06-.94-2.06-.94-.94-2.06-.94 2.06-2.06.94zm-11 1L8.5 8.5l.94-2.06 2.06-.94-2.06-.94L8.5 2.5l-.94 2.06-2.06.94zm10 10l.94 2.06.94-2.06 2.06-.94-2.06-.94-.94-2.06-.94 2.06-2.06.94z\"/><path d=\"M17.41 7.96l-1.37-1.37c-.4-.4-.92-.59-1.43-.59-.52 0-1.04.2-1.43.59L10.3 9.45l-7.72 7.72c-.78.78-.78 2.05 0 2.83L4 21.41c.39.39.9.59 1.41.59.51 0 1.02-.2 1.41-.59l7.78-7.78 2.81-2.81c.8-.78.8-2.07 0-2.86zM5.41 20L4 18.59l7.72-7.72 1.47 1.35L5.41 20z\"/>\n",
              "  </svg>\n",
              "      </button>\n",
              "      \n",
              "  <style>\n",
              "    .colab-df-container {\n",
              "      display:flex;\n",
              "      flex-wrap:wrap;\n",
              "      gap: 12px;\n",
              "    }\n",
              "\n",
              "    .colab-df-convert {\n",
              "      background-color: #E8F0FE;\n",
              "      border: none;\n",
              "      border-radius: 50%;\n",
              "      cursor: pointer;\n",
              "      display: none;\n",
              "      fill: #1967D2;\n",
              "      height: 32px;\n",
              "      padding: 0 0 0 0;\n",
              "      width: 32px;\n",
              "    }\n",
              "\n",
              "    .colab-df-convert:hover {\n",
              "      background-color: #E2EBFA;\n",
              "      box-shadow: 0px 1px 2px rgba(60, 64, 67, 0.3), 0px 1px 3px 1px rgba(60, 64, 67, 0.15);\n",
              "      fill: #174EA6;\n",
              "    }\n",
              "\n",
              "    [theme=dark] .colab-df-convert {\n",
              "      background-color: #3B4455;\n",
              "      fill: #D2E3FC;\n",
              "    }\n",
              "\n",
              "    [theme=dark] .colab-df-convert:hover {\n",
              "      background-color: #434B5C;\n",
              "      box-shadow: 0px 1px 3px 1px rgba(0, 0, 0, 0.15);\n",
              "      filter: drop-shadow(0px 1px 2px rgba(0, 0, 0, 0.3));\n",
              "      fill: #FFFFFF;\n",
              "    }\n",
              "  </style>\n",
              "\n",
              "      <script>\n",
              "        const buttonEl =\n",
              "          document.querySelector('#df-85387a79-975d-46e8-9f4f-49d7a2cd0837 button.colab-df-convert');\n",
              "        buttonEl.style.display =\n",
              "          google.colab.kernel.accessAllowed ? 'block' : 'none';\n",
              "\n",
              "        async function convertToInteractive(key) {\n",
              "          const element = document.querySelector('#df-85387a79-975d-46e8-9f4f-49d7a2cd0837');\n",
              "          const dataTable =\n",
              "            await google.colab.kernel.invokeFunction('convertToInteractive',\n",
              "                                                     [key], {});\n",
              "          if (!dataTable) return;\n",
              "\n",
              "          const docLinkHtml = 'Like what you see? Visit the ' +\n",
              "            '<a target=\"_blank\" href=https://colab.research.google.com/notebooks/data_table.ipynb>data table notebook</a>'\n",
              "            + ' to learn more about interactive tables.';\n",
              "          element.innerHTML = '';\n",
              "          dataTable['output_type'] = 'display_data';\n",
              "          await google.colab.output.renderOutput(dataTable, element);\n",
              "          const docLink = document.createElement('div');\n",
              "          docLink.innerHTML = docLinkHtml;\n",
              "          element.appendChild(docLink);\n",
              "        }\n",
              "      </script>\n",
              "    </div>\n",
              "  </div>\n",
              "  "
            ],
            "text/plain": [
              "   reaction_id  ...   ec_level_4\n",
              "0        48567  ...  1.14.14.116\n",
              "1        68073  ...     4.2.1.84\n",
              "2        55632  ...     3.4.19.1\n",
              "3        65201  ...     2.7.1.72\n",
              "4        27225  ...     3.5.2.18\n",
              "\n",
              "[5 rows x 7 columns]"
            ]
          },
          "execution_count": 22,
          "metadata": {},
          "output_type": "execute_result"
        }
      ],
      "source": [
        "train.head()\n",
        "test.head()"
      ]
    },
    {
      "cell_type": "markdown",
      "metadata": {
        "id": "ps8g_OlOJPpm"
      },
      "source": [
        "# Training with Support Vector Machines\n"
      ]
    },
    {
      "cell_type": "code",
      "execution_count": null,
      "metadata": {
        "colab": {
          "base_uri": "https://localhost:8080/"
        },
        "id": "Yg0bf1ERT1vm",
        "outputId": "3a1bc86e-6c0f-4a32-f3e0-9ceb2cb6c68e"
      },
      "outputs": [
        {
          "output_type": "stream",
          "name": "stdout",
          "text": [
            "Mounted at /content/drive\n"
          ]
        }
      ],
      "source": [
        "import json\n",
        "from google.colab import drive\n",
        "drive.mount(\"/content/drive\", force_remount=True)\n"
      ]
    },
    {
      "cell_type": "code",
      "source": [
        "# \n",
        "import random\n",
        "x_train = []\n",
        "for i in range(amount):\n",
        "\n",
        "  while True:\n",
        "    try:\n",
        "      x = random.randint(1,amount)\n",
        "      num = str(x)\n",
        "      with open('/content/drive/MyDrive/reaction_chemberta_features.zip (Unzipped Files)/data/'+num+'.json') as json_data:\n",
        "        data = json.load(json_data)\n",
        "    except:\n",
        "      continue\n",
        "    else:\n",
        "      break\n",
        "\n",
        "  data_inside = np.concatenate((data['reactant_embedding'],data['product_embedding']),axis=0)\n",
        "\n",
        "  x_train.append(data_inside)\n",
        "\n",
        "x_train = np.array(x_train)\n",
        "print(x_train.shape)\n",
        "\n",
        "# Y Train\n",
        "y_train = train['ec_level_1'][0:amount]\n",
        "\n",
        "print(y_train.shape)\n"
      ],
      "metadata": {
        "colab": {
          "base_uri": "https://localhost:8080/"
        },
        "id": "VRUN9GKQw4Op",
        "outputId": "fa3f5afd-00e9-4441-9d99-9f354ab40961"
      },
      "execution_count": null,
      "outputs": [
        {
          "output_type": "stream",
          "name": "stdout",
          "text": [
            "(1000, 1536)\n",
            "(1000,)\n"
          ]
        }
      ]
    },
    {
      "cell_type": "code",
      "source": [
        "# Importing to learner\n",
        "from sklearn.svm import SVC\n",
        "from sklearn.pipeline import make_pipeline\n",
        "from sklearn.preprocessing import StandardScaler\n",
        "\n",
        "svc = SVC()\n",
        "clf = make_pipeline(StandardScaler(),SVC(gamma='auto'))\n",
        "clf.fit(x_train,y_train)"
      ],
      "metadata": {
        "colab": {
          "base_uri": "https://localhost:8080/"
        },
        "id": "EnaC9Mfrw2Yp",
        "outputId": "32c24e8b-98a3-4354-b370-744ad4cdf4ce"
      },
      "execution_count": null,
      "outputs": [
        {
          "output_type": "execute_result",
          "data": {
            "text/plain": [
              "Pipeline(steps=[('standardscaler', StandardScaler()),\n",
              "                ('svc', SVC(gamma='auto'))])"
            ]
          },
          "metadata": {},
          "execution_count": 278
        }
      ]
    },
    {
      "cell_type": "markdown",
      "source": [
        "# Exporting to Drive"
      ],
      "metadata": {
        "id": "6L0FRFQBmtBQ"
      }
    },
    {
      "cell_type": "code",
      "source": [
        "pd.DataFrame(x_train).to_csv(\"/content/drive/MyDrive/Copy of reaction_chemberta_features.zip (Unzipped Files)/PATH/export1.csv\")"
      ],
      "metadata": {
        "id": "MH2gR4xMhS_I"
      },
      "execution_count": null,
      "outputs": []
    },
    {
      "cell_type": "markdown",
      "source": [
        "# Creating Prediction Function and Embedding Function\n"
      ],
      "metadata": {
        "id": "RwypFWgmmxSo"
      }
    },
    {
      "cell_type": "code",
      "execution_count": null,
      "metadata": {
        "id": "as6mQ6yHsNBG",
        "colab": {
          "base_uri": "https://localhost:8080/"
        },
        "outputId": "6ad86f8e-7a85-47bd-a40c-d7214b310c89"
      },
      "outputs": [
        {
          "output_type": "stream",
          "name": "stderr",
          "text": [
            "Some weights of the model checkpoint at seyonec/ChemBERTa-zinc-base-v1 were not used when initializing RobertaModel: ['lm_head.dense.weight', 'lm_head.dense.bias', 'lm_head.bias', 'lm_head.layer_norm.bias', 'lm_head.layer_norm.weight', 'lm_head.decoder.weight', 'lm_head.decoder.bias']\n",
            "- This IS expected if you are initializing RobertaModel from the checkpoint of a model trained on another task or with another architecture (e.g. initializing a BertForSequenceClassification model from a BertForPreTraining model).\n",
            "- This IS NOT expected if you are initializing RobertaModel from the checkpoint of a model that you expect to be exactly identical (initializing a BertForSequenceClassification model from a BertForSequenceClassification model).\n"
          ]
        }
      ],
      "source": [
        "model = RobertaModel.from_pretrained(\"seyonec/ChemBERTa-zinc-base-v1\")\n",
        "tokenizer = AutoTokenizer.from_pretrained(\"seyonec/ChemBERTa-zinc-base-v1\") \n",
        "\n",
        "def get_molecule_embedding(smiles):\n",
        "    inp = tokenizer.encode_plus(smiles)\n",
        "    input_ids = torch.tensor([inp['input_ids']])\n",
        "    attention_mask = torch.tensor([inp['attention_mask']])\n",
        "    embedding = model(input_ids=input_ids, attention_mask=attention_mask)\n",
        "    pooled_output = [round(i, 3) for i in embedding['pooler_output'].tolist()[0]]\n",
        "    return pooled_output\n",
        "\n",
        "def get_reaction_embeddings(rxn_smiles):\n",
        "    reactant_smiles, product_smiles = rxn_smiles.split('>>')\n",
        "    reactant_embedding = get_molecule_embedding(reactant_smiles)\n",
        "    product_embedding = get_molecule_embedding(product_smiles)\n",
        "    return {'rxn_smiles': rxn_smiles,\n",
        "            'reactant_embedding': reactant_embedding,\n",
        "            'product_embedding': product_embedding}\n",
        "\n",
        "def predicting(rxn):\n",
        "    embed = get_reaction_embeddings(rxn)\n",
        "    embedCat = np.concatenate((embed['reactant_embedding'],embed['product_embedding']),axis=0)\n",
        "    A = []\n",
        "    A.append(embedCat)\n",
        "    B = np.array(A)\n",
        "    return clf.predict(B)\n",
        "\n"
      ]
    },
    {
      "cell_type": "markdown",
      "metadata": {
        "id": "SrBCKew9J1d8"
      },
      "source": [
        "# Prediction Model! \n",
        "\n",
        "Enter the chemical formula in SMILES format."
      ]
    },
    {
      "cell_type": "code",
      "execution_count": null,
      "metadata": {
        "colab": {
          "base_uri": "https://localhost:8080/"
        },
        "id": "KD1m9W5c4B-P",
        "outputId": "757a7703-9026-46af-84c8-38dbf16471a5"
      },
      "outputs": [
        {
          "output_type": "stream",
          "name": "stdout",
          "text": [
            "Enter the chemical formula in SMILES format.*C1=C(*)C(=O)C(*)=C(*)C1=O.*[C@@H](N)C(=O)O.O>>*CCC(=O)C(=O)O.*c1c(*)c(O)c(*)c(*)c1O.[NH4+]\n",
            "-------------------------\n",
            "\n",
            "EC Num:  [2]\n",
            "\n",
            "-------------------------\n"
          ]
        }
      ],
      "source": [
        "In = input(\"Enter the chemical formula in SMILES format.\")\n",
        "\n",
        "\n",
        "print(\"-------------------------\")\n",
        "print(\"\")\n",
        "print('EC Num: ',predicting(In))\n",
        "print(\"\")\n",
        "print(\"-------------------------\")"
      ]
    },
    {
      "cell_type": "markdown",
      "source": [
        "# Samples"
      ],
      "metadata": {
        "id": "0nmQNbN4oGtY"
      }
    },
    {
      "cell_type": "code",
      "execution_count": null,
      "metadata": {
        "id": "4Cuy5QKa7gZ8"
      },
      "outputs": [],
      "source": [
        "C/C(C)=C/CC/C(C)=C/CC/C(C)=C/COP(=O)(O)OP(=O)(O)O.CC(C)[C@H](NC(=O)[C@H](CS)NC(=O)CNS(=O)(=O)c1cccc2c(N(C)C)cccc12)C(=O)N[C@H](C(=O)N[C@@H](C)C(=O)O)[C@@H](C)O>>C/C(C)=C\\CC/C(C)=C/CC/C(C)=C/CSC[C@H](NC(=O)CNS(=O)(=O)c1cccc2c(N(C)C)cccc12)C(=O)N[C@H](C(=O)N[C@H](C(=O)N[C@@H](C)C(=O)O)[C@@H](C)O)C(C)C.O=P(O)(O)OP(=O)(O)O\n",
        "Answer: 2\n",
        "\n",
        "\n",
        "\n",
        "\n"
      ]
    }
  ],
  "metadata": {
    "colab": {
      "collapsed_sections": [],
      "name": "InviandMasters.ipynb",
      "provenance": [],
      "include_colab_link": true
    },
    "kernelspec": {
      "display_name": "Python 3",
      "name": "python3"
    },
    "language_info": {
      "name": "python"
    }
  },
  "nbformat": 4,
  "nbformat_minor": 0
}